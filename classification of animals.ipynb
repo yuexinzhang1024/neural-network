{
 "cells": [
  {
   "cell_type": "code",
   "execution_count": 1,
   "metadata": {
    "_cell_guid": "b1076dfc-b9ad-4769-8c92-a6c4dae69d19",
    "_uuid": "8f2839f25d086af736a60e9eeb907d3b93b6e0e5",
    "execution": {
     "iopub.execute_input": "2022-12-08T06:14:45.916317Z",
     "iopub.status.busy": "2022-12-08T06:14:45.914345Z",
     "iopub.status.idle": "2022-12-08T06:14:48.525520Z",
     "shell.execute_reply": "2022-12-08T06:14:48.524410Z",
     "shell.execute_reply.started": "2022-12-08T06:14:45.916245Z"
    }
   },
   "outputs": [],
   "source": [
    "import os\n",
    "import zipfile\n",
    "import time\n",
    "import copy\n",
    "import numpy as np\n",
    "import pandas as pd\n",
    "import matplotlib.pyplot as plt\n",
    "import torch\n",
    "import torch.nn as nn\n",
    "import torch.nn.functional as F\n",
    "import torchvision\n",
    "import random\n",
    "from sklearn.model_selection import StratifiedKFold,train_test_split\n",
    "from tqdm import tqdm\n",
    "\n",
    "import torch.optim as optim\n",
    "import torch.utils.data as data\n",
    "from torchvision import models, transforms\n",
    "from torchvision.utils import make_grid\n",
    "from PIL import Image\n",
    "from torch.utils.data import Dataset, random_split, DataLoader\n",
    "\n",
    "\n",
    "%matplotlib inline\n",
    "\n",
    "import glob\n",
    "import re\n",
    "\n",
    "import matplotlib.image as mpimg\n",
    "import matplotlib.pyplot as plt\n",
    "import PIL\n",
    "from PIL import Image"
   ]
  },
  {
   "cell_type": "code",
   "execution_count": 2,
   "metadata": {
    "execution": {
     "iopub.execute_input": "2022-12-08T06:14:48.534819Z",
     "iopub.status.busy": "2022-12-08T06:14:48.532070Z",
     "iopub.status.idle": "2022-12-08T06:14:48.608435Z",
     "shell.execute_reply": "2022-12-08T06:14:48.606972Z",
     "shell.execute_reply.started": "2022-12-08T06:14:48.534761Z"
    }
   },
   "outputs": [],
   "source": [
    "# Config\n",
    "size = 224\n",
    "mean = (0.485, 0.456, 0.406)\n",
    "std = (0.229, 0.224, 0.225)\n",
    "batch_size = 32\n",
    "device = torch.device(\"cuda:0\" if torch.cuda.is_available() else \"cpu\")\n",
    "EPOCH=5\n",
    "model = 'VGG-16' #'VGG-19',ResNet-18 ResNet-50"
   ]
  },
  {
   "cell_type": "code",
   "execution_count": 3,
   "metadata": {
    "execution": {
     "iopub.execute_input": "2022-12-08T06:14:48.616875Z",
     "iopub.status.busy": "2022-12-08T06:14:48.613934Z",
     "iopub.status.idle": "2022-12-08T06:14:48.627868Z",
     "shell.execute_reply": "2022-12-08T06:14:48.626420Z",
     "shell.execute_reply.started": "2022-12-08T06:14:48.615812Z"
    }
   },
   "outputs": [],
   "source": [
    "def seed_everything(seed=42):\n",
    "    random.seed(seed)\n",
    "    os.environ['PYTHONHASHSEED'] = str(seed)\n",
    "    np.random.seed(seed)\n",
    "    torch.manual_seed(seed)\n",
    "    torch.cuda.manual_seed(seed)\n",
    "    torch.backends.cudnn.deterministic = True\n",
    "    \n",
    "seed_everything(seed=42)"
   ]
  },
  {
   "cell_type": "code",
   "execution_count": 4,
   "metadata": {
    "execution": {
     "iopub.execute_input": "2022-12-08T06:14:48.635900Z",
     "iopub.status.busy": "2022-12-08T06:14:48.633700Z",
     "iopub.status.idle": "2022-12-08T06:14:50.255385Z",
     "shell.execute_reply": "2022-12-08T06:14:50.254266Z",
     "shell.execute_reply.started": "2022-12-08T06:14:48.635865Z"
    }
   },
   "outputs": [],
   "source": [
    "def natural_key(string_):\n",
    "    \"\"\"\n",
    "    Define sort key that is integer-aware\n",
    "    \"\"\"\n",
    "    return [int(s) if s.isdigit() else s for s in re.split(r'(\\d+)', string_)]\n",
    "\n",
    "#These are the directory on kaggle. I firstly unzipped the data and generated a new folder to save the data.\n",
    "#https://www.kaggle.com/competitions/dogs-vs-cats-redux-kernels-edition/data\n",
    "TRAIN_DIR = '../input/data-cat-and-dogs/train/'\n",
    "TEST_DIR = '../input/data-cat-and-dogs/test/'\n",
    "\n",
    "train_cats = sorted(glob.glob(os.path.join(TRAIN_DIR, 'cat*.jpg')), key=natural_key)\n",
    "train_dogs = sorted(glob.glob(os.path.join(TRAIN_DIR, 'dog*.jpg')), key=natural_key)\n",
    "train_all = train_cats + train_dogs\n",
    "\n",
    "test_all = sorted(glob.glob(os.path.join(TEST_DIR, '*.jpg')), key=natural_key)\n",
    "y_all = [train_all[i].split('/')[-1].split('.')[0] for i in range(len(train_all))]"
   ]
  },
  {
   "cell_type": "code",
   "execution_count": 5,
   "metadata": {
    "execution": {
     "iopub.execute_input": "2022-12-08T06:14:50.258047Z",
     "iopub.status.busy": "2022-12-08T06:14:50.257306Z",
     "iopub.status.idle": "2022-12-08T06:14:50.268065Z",
     "shell.execute_reply": "2022-12-08T06:14:50.266282Z",
     "shell.execute_reply.started": "2022-12-08T06:14:50.258011Z"
    }
   },
   "outputs": [],
   "source": [
    "# Data Augumentation\n",
    "class ImageTransform():\n",
    "    \n",
    "    def __init__(self, resize, mean, std):\n",
    "        self.data_transform = {\n",
    "            #Compose:\n",
    "            'train': transforms.Compose([\n",
    "                transforms.RandomResizedCrop(resize, scale=(0.5, 1.0)),\n",
    "                #Randomly resize + rescale\n",
    "                transforms.RandomHorizontalFlip(),\n",
    "                #horizontal flip\n",
    "                transforms.ToTensor(),\n",
    "                transforms.Normalize(mean, std)\n",
    "                #standerlize\n",
    "            ]),\n",
    "            'val': transforms.Compose([\n",
    "                transforms.Resize(256),\n",
    "                transforms.CenterCrop(resize),\n",
    "                transforms.ToTensor(),\n",
    "                transforms.Normalize(mean, std)\n",
    "            ])\n",
    "        }\n",
    "        \n",
    "    def __call__(self, img, phase):\n",
    "        return self.data_transform[phase](img)"
   ]
  },
  {
   "cell_type": "code",
   "execution_count": 6,
   "metadata": {
    "execution": {
     "iopub.execute_input": "2022-12-08T06:14:50.271472Z",
     "iopub.status.busy": "2022-12-08T06:14:50.270103Z",
     "iopub.status.idle": "2022-12-08T06:14:50.284463Z",
     "shell.execute_reply": "2022-12-08T06:14:50.283428Z",
     "shell.execute_reply.started": "2022-12-08T06:14:50.271439Z"
    }
   },
   "outputs": [],
   "source": [
    "# Dataset\n",
    "class DogvsCatDataset(data.Dataset):\n",
    "    \n",
    "    def __init__(self, file_list, transform=None, phase='train'):    \n",
    "        self.file_list = file_list\n",
    "        self.transform = transform\n",
    "        self.phase = phase\n",
    "        \n",
    "    def __len__(self):\n",
    "        return len(self.file_list)\n",
    "    \n",
    "    def __getitem__(self, idx):\n",
    "        \n",
    "        img_path = self.file_list[idx]\n",
    "        img = Image.open(img_path)\n",
    "        \n",
    "        img_transformed = self.transform(img, self.phase)\n",
    "        \n",
    "        # Get Label\n",
    "        label = img_path.split('/')[-1].split('.')[0]\n",
    "        if label == 'dog':\n",
    "            label = 1\n",
    "        elif label == 'cat':\n",
    "            label = 0\n",
    "\n",
    "        return img_transformed, label"
   ]
  },
  {
   "cell_type": "code",
   "execution_count": 7,
   "metadata": {
    "execution": {
     "iopub.execute_input": "2022-12-08T06:14:50.286925Z",
     "iopub.status.busy": "2022-12-08T06:14:50.285823Z",
     "iopub.status.idle": "2022-12-08T06:14:50.296680Z",
     "shell.execute_reply": "2022-12-08T06:14:50.295579Z",
     "shell.execute_reply.started": "2022-12-08T06:14:50.286888Z"
    }
   },
   "outputs": [],
   "source": [
    "class Custom_model(nn.Module):\n",
    "    def __init__(self,net): #需要输入预训练模型最后一层的维度\n",
    "        super(Custom_model,self).__init__()\n",
    "        self.pretrained_model = net\n",
    "        self.hidden_state = 1000\n",
    "        self.linear1 = nn.Linear(self.hidden_state,512)\n",
    "        self.dropout = nn.Dropout(p=0.5)\n",
    "        self.linear2 = nn.Linear(512,1)\n",
    "    \n",
    "    def forward(self,x):\n",
    "        x = F.relu(self.pretrained_model(x))\n",
    "        x = self.dropout(x)\n",
    "        x = F.relu(self.linear1(x))\n",
    "        x = self.linear2(x)\n",
    "        x = torch.sigmoid(x).squeeze(-1)\n",
    "        #print(x)\n",
    "        return x"
   ]
  },
  {
   "cell_type": "code",
   "execution_count": 8,
   "metadata": {
    "execution": {
     "iopub.execute_input": "2022-12-08T06:14:50.299500Z",
     "iopub.status.busy": "2022-12-08T06:14:50.298624Z",
     "iopub.status.idle": "2022-12-08T06:14:50.317494Z",
     "shell.execute_reply": "2022-12-08T06:14:50.316364Z",
     "shell.execute_reply.started": "2022-12-08T06:14:50.299455Z"
    }
   },
   "outputs": [],
   "source": [
    "def train_model(net, dataloader_dict, criterion, optimizer, num_epoch):\n",
    "    \n",
    "    since = time.time()\n",
    "    best_model_wts = copy.deepcopy(net.state_dict())\n",
    "    best_acc = 0.0\n",
    "    net = net.to(device)\n",
    "    \n",
    "    for epoch in range(num_epoch):\n",
    "        print('Epoch {}/{}'.format(epoch + 1, num_epoch))\n",
    "        print('-'*20)\n",
    "        \n",
    "        for phase in ['train', 'val']:\n",
    "            \n",
    "            if phase == 'train':\n",
    "                net.train()\n",
    "            else:\n",
    "                net.eval()\n",
    "                \n",
    "            epoch_loss = 0.0\n",
    "            epoch_corrects = 0\n",
    "            \n",
    "            \n",
    "            for inputs, labels in tqdm(dataloader_dict[phase]):\n",
    "                inputs = inputs.to(device)\n",
    "                labels = labels.to(device)\n",
    "                optimizer.zero_grad()\n",
    "\n",
    "                with torch.set_grad_enabled(phase == 'train'):\n",
    "                    outputs = net(inputs)\n",
    "                    preds = torch.tensor([round(float(i)) for i in outputs]).to(device)\n",
    "                    #_, preds = torch.max(outputs, 1)\n",
    "                    loss = criterion(outputs, labels.type_as(outputs))\n",
    "\n",
    "                    if phase == 'train':\n",
    "                        loss.backward()\n",
    "                        optimizer.step()\n",
    "\n",
    "                    epoch_loss += loss.item() * inputs.size(0)\n",
    "                    epoch_corrects += torch.sum(preds == labels.data)\n",
    "\n",
    "            epoch_loss = epoch_loss / len(dataloader_dict[phase].dataset)\n",
    "            epoch_acc = epoch_corrects.double() / len(dataloader_dict[phase].dataset)\n",
    "\n",
    "            print('{} Loss: {:.4f} Acc: {:.4f}'.format(phase, epoch_loss, epoch_acc))\n",
    "            \n",
    "            \n",
    "            # deep copy the model\n",
    "            if phase == 'val' and epoch_acc > best_acc:\n",
    "                print('A better model in current epoch! Saved')\n",
    "                best_acc = epoch_acc\n",
    "                best_model_wts = copy.deepcopy(net.state_dict())\n",
    "                torch.save({'model': net.state_dict(),\n",
    "                            'predictions': preds},\n",
    "                            f\"model_best.pth\")\n",
    "            \n",
    "                \n",
    "    time_elapsed = time.time() - since\n",
    "    print('Training complete in {:.0f}m {:.0f}s'.format(\n",
    "        time_elapsed // 60, time_elapsed % 60))\n",
    "    print('Best val Acc: {:4f}'.format(best_acc))\n",
    "\n",
    "    # load best model weights\n",
    "    net.load_state_dict(best_model_wts)\n",
    "    return net"
   ]
  },
  {
   "cell_type": "code",
   "execution_count": 12,
   "metadata": {
    "collapsed": true,
    "execution": {
     "iopub.execute_input": "2022-12-08T06:19:29.245659Z",
     "iopub.status.busy": "2022-12-08T06:19:29.245162Z",
     "iopub.status.idle": "2022-12-08T06:45:44.395218Z",
     "shell.execute_reply": "2022-12-08T06:45:44.392376Z",
     "shell.execute_reply.started": "2022-12-08T06:19:29.245615Z"
    },
    "jupyter": {
     "outputs_hidden": true
    }
   },
   "outputs": [
    {
     "name": "stdout",
     "output_type": "stream",
     "text": [
      "Epoch 1/10\n",
      "--------------------\n"
     ]
    },
    {
     "name": "stderr",
     "output_type": "stream",
     "text": [
      "100%|██████████| 79/79 [00:18<00:00,  4.32it/s]s]\n"
     ]
    },
    {
     "name": "stdout",
     "output_type": "stream",
     "text": [
      "val Loss: 0.0673 Acc: 0.9740\n",
      "A better model in current epoch! Saved\n",
      "Epoch 2/10\n",
      "--------------------\n"
     ]
    },
    {
     "name": "stderr",
     "output_type": "stream",
     "text": [
      "100%|██████████| 704/704 [02:19<00:00,  5.03it/s]\n"
     ]
    },
    {
     "name": "stdout",
     "output_type": "stream",
     "text": [
      "train Loss: 0.1294 Acc: 0.9515\n"
     ]
    },
    {
     "name": "stderr",
     "output_type": "stream",
     "text": [
      "100%|██████████| 79/79 [00:16<00:00,  4.74it/s]\n"
     ]
    },
    {
     "name": "stdout",
     "output_type": "stream",
     "text": [
      "val Loss: 0.0756 Acc: 0.9720\n",
      "Epoch 3/10\n",
      "--------------------\n"
     ]
    },
    {
     "name": "stderr",
     "output_type": "stream",
     "text": [
      "100%|██████████| 704/704 [02:20<00:00,  5.03it/s]\n"
     ]
    },
    {
     "name": "stdout",
     "output_type": "stream",
     "text": [
      "train Loss: 0.1243 Acc: 0.9532\n"
     ]
    },
    {
     "name": "stderr",
     "output_type": "stream",
     "text": [
      "100%|██████████| 79/79 [00:16<00:00,  4.73it/s]\n"
     ]
    },
    {
     "name": "stdout",
     "output_type": "stream",
     "text": [
      "val Loss: 0.0640 Acc: 0.9736\n",
      "Epoch 4/10\n",
      "--------------------\n"
     ]
    },
    {
     "name": "stderr",
     "output_type": "stream",
     "text": [
      "100%|██████████| 704/704 [02:20<00:00,  5.02it/s]\n"
     ]
    },
    {
     "name": "stdout",
     "output_type": "stream",
     "text": [
      "train Loss: 0.1247 Acc: 0.9522\n"
     ]
    },
    {
     "name": "stderr",
     "output_type": "stream",
     "text": [
      "100%|██████████| 79/79 [00:16<00:00,  4.69it/s]\n"
     ]
    },
    {
     "name": "stdout",
     "output_type": "stream",
     "text": [
      "val Loss: 0.0784 Acc: 0.9704\n",
      "Epoch 5/10\n",
      "--------------------\n"
     ]
    },
    {
     "name": "stderr",
     "output_type": "stream",
     "text": [
      "100%|██████████| 704/704 [02:19<00:00,  5.05it/s]\n"
     ]
    },
    {
     "name": "stdout",
     "output_type": "stream",
     "text": [
      "train Loss: 0.1239 Acc: 0.9513\n"
     ]
    },
    {
     "name": "stderr",
     "output_type": "stream",
     "text": [
      "100%|██████████| 79/79 [00:16<00:00,  4.71it/s]\n"
     ]
    },
    {
     "name": "stdout",
     "output_type": "stream",
     "text": [
      "val Loss: 0.0960 Acc: 0.9788\n",
      "A better model in current epoch! Saved\n",
      "Epoch 6/10\n",
      "--------------------\n"
     ]
    },
    {
     "name": "stderr",
     "output_type": "stream",
     "text": [
      "100%|██████████| 704/704 [02:18<00:00,  5.07it/s]\n"
     ]
    },
    {
     "name": "stdout",
     "output_type": "stream",
     "text": [
      "train Loss: 0.1127 Acc: 0.9552\n"
     ]
    },
    {
     "name": "stderr",
     "output_type": "stream",
     "text": [
      "100%|██████████| 79/79 [00:16<00:00,  4.89it/s]\n"
     ]
    },
    {
     "name": "stdout",
     "output_type": "stream",
     "text": [
      "val Loss: 0.0669 Acc: 0.9728\n",
      "Epoch 7/10\n",
      "--------------------\n"
     ]
    },
    {
     "name": "stderr",
     "output_type": "stream",
     "text": [
      "100%|██████████| 704/704 [02:19<00:00,  5.06it/s]\n"
     ]
    },
    {
     "name": "stdout",
     "output_type": "stream",
     "text": [
      "train Loss: 0.1137 Acc: 0.9585\n"
     ]
    },
    {
     "name": "stderr",
     "output_type": "stream",
     "text": [
      "100%|██████████| 79/79 [00:16<00:00,  4.88it/s]\n"
     ]
    },
    {
     "name": "stdout",
     "output_type": "stream",
     "text": [
      "val Loss: 0.0666 Acc: 0.9776\n",
      "Epoch 8/10\n",
      "--------------------\n"
     ]
    },
    {
     "name": "stderr",
     "output_type": "stream",
     "text": [
      "100%|██████████| 704/704 [02:22<00:00,  4.95it/s]\n"
     ]
    },
    {
     "name": "stdout",
     "output_type": "stream",
     "text": [
      "train Loss: 0.1116 Acc: 0.9580\n"
     ]
    },
    {
     "name": "stderr",
     "output_type": "stream",
     "text": [
      "100%|██████████| 79/79 [00:16<00:00,  4.90it/s]\n"
     ]
    },
    {
     "name": "stdout",
     "output_type": "stream",
     "text": [
      "val Loss: 0.0750 Acc: 0.9728\n",
      "Epoch 9/10\n",
      "--------------------\n"
     ]
    },
    {
     "name": "stderr",
     "output_type": "stream",
     "text": [
      "100%|██████████| 704/704 [02:19<00:00,  5.05it/s]\n"
     ]
    },
    {
     "name": "stdout",
     "output_type": "stream",
     "text": [
      "train Loss: 0.1149 Acc: 0.9549\n"
     ]
    },
    {
     "name": "stderr",
     "output_type": "stream",
     "text": [
      "100%|██████████| 79/79 [00:16<00:00,  4.86it/s]\n"
     ]
    },
    {
     "name": "stdout",
     "output_type": "stream",
     "text": [
      "val Loss: 0.0644 Acc: 0.9712\n",
      "Epoch 10/10\n",
      "--------------------\n"
     ]
    },
    {
     "name": "stderr",
     "output_type": "stream",
     "text": [
      "100%|██████████| 704/704 [02:19<00:00,  5.04it/s]\n"
     ]
    },
    {
     "name": "stdout",
     "output_type": "stream",
     "text": [
      "train Loss: 0.1093 Acc: 0.9580\n"
     ]
    },
    {
     "name": "stderr",
     "output_type": "stream",
     "text": [
      "100%|██████████| 79/79 [00:16<00:00,  4.86it/s]"
     ]
    },
    {
     "name": "stdout",
     "output_type": "stream",
     "text": [
      "val Loss: 0.0688 Acc: 0.9728\n",
      "Training complete in 26m 15s\n",
      "Best val Acc: 0.978800\n"
     ]
    },
    {
     "name": "stderr",
     "output_type": "stream",
     "text": [
      "\n"
     ]
    }
   ],
   "source": [
    "train,val,train_y,val_y = train_test_split(train_all,y_all,test_size=0.1,stratify=y_all)\n",
    "\n",
    "################if you change the config, you should also change the model used here.\n",
    "res = models.vgg16(pretrained=True) \n",
    "\n",
    "\n",
    "for param in res.parameters():\n",
    "    param.requires_grad=False\n",
    "# build the model\n",
    "model_final = Custom_model(net=res)\n",
    "# Put the model to GPU\n",
    "model_final= model_final.to(device)\n",
    "# cost_function\n",
    "cost_function = nn.BCELoss()  \n",
    "# optimizer\n",
    "optimizer_ft = optim.Adam([param for param in model_final.parameters() if param.requires_grad],lr=0.009)\n",
    "# learning rate scheduler\n",
    "\n",
    "# Dataset\n",
    "train_dataset = DogvsCatDataset(train, transform=ImageTransform(size, mean, std), phase='train')\n",
    "val_dataset = DogvsCatDataset(val, transform=ImageTransform(size, mean, std), phase='val')\n",
    "\n",
    "# DataLoader\n",
    "train_dataloader = data.DataLoader(train_dataset, batch_size=batch_size, shuffle=True)\n",
    "val_dataloader = data.DataLoader(val_dataset, batch_size=batch_size, shuffle=False)\n",
    "\n",
    "dataloader_dict = {'train': train_dataloader, 'val': val_dataloader}\n",
    "\n",
    "net = train_model(model_final, dataloader_dict, cost_function, optimizer_ft, EPOCH)\n",
    "\n"
   ]
  },
  {
   "cell_type": "code",
   "execution_count": null,
   "metadata": {
    "execution": {
     "iopub.status.busy": "2022-12-08T06:18:55.564156Z",
     "iopub.status.idle": "2022-12-08T06:18:55.564724Z",
     "shell.execute_reply": "2022-12-08T06:18:55.564489Z",
     "shell.execute_reply.started": "2022-12-08T06:18:55.564466Z"
    }
   },
   "outputs": [],
   "source": [
    "def predict_on_loader(test,model,device):\n",
    "    print('Start predicting.....')\n",
    "    model.eval()\n",
    "    # Prediction\n",
    "    id_list = []\n",
    "    pred_list = []\n",
    "    \n",
    "    with torch.no_grad():\n",
    "        for test_path in tqdm(test):\n",
    "            #print(test_path)\n",
    "            img = Image.open(test_path)\n",
    "            _id = int(test_path.split('/')[-1].split('.')[0])\n",
    "            transform = ImageTransform(size, mean, std)\n",
    "            img = transform(img, phase='val')\n",
    "            img = img.unsqueeze(0)\n",
    "            img = img.to(device)\n",
    "\n",
    "            outputs = model(img)\n",
    "            preds = float(outputs)\n",
    "            id_list.append(_id)\n",
    "            pred_list.append(preds)\n",
    "    \n",
    "    return id_list,pred_list"
   ]
  },
  {
   "cell_type": "code",
   "execution_count": null,
   "metadata": {
    "execution": {
     "iopub.status.busy": "2022-12-08T06:18:55.566648Z",
     "iopub.status.idle": "2022-12-08T06:18:55.567131Z",
     "shell.execute_reply": "2022-12-08T06:18:55.566911Z",
     "shell.execute_reply.started": "2022-12-08T06:18:55.566888Z"
    }
   },
   "outputs": [],
   "source": [
    "all_predict = []\n",
    "\n",
    "################if you change the config, you should also change the model used here.\n",
    "model = Custom_model(net = models.vgg16(pretrained=True))\n",
    "\n",
    "state = torch.load(f\"model_best.pth\")\n",
    "model.load_state_dict(state['model'])\n",
    "id_list,predictions = predict_on_loader(test_all,model_final,device)\n",
    "all_predict.append(predictions)\n",
    "pred_list = pd.DataFrame(all_predict).mean().to_list()"
   ]
  },
  {
   "cell_type": "code",
   "execution_count": null,
   "metadata": {
    "execution": {
     "iopub.status.busy": "2022-12-08T06:18:55.568810Z",
     "iopub.status.idle": "2022-12-08T06:18:55.569272Z",
     "shell.execute_reply": "2022-12-08T06:18:55.569055Z",
     "shell.execute_reply.started": "2022-12-08T06:18:55.569033Z"
    }
   },
   "outputs": [],
   "source": [
    "res = pd.DataFrame({\n",
    "    'id': id_list,\n",
    "    'label': pred_list\n",
    "})\n",
    "\n",
    "res.sort_values(by='id', inplace=True)\n",
    "res.reset_index(drop=True, inplace=True)\n",
    "\n",
    "res.to_csv('submission.csv', index=False)"
   ]
  }
 ],
 "metadata": {
  "kernelspec": {
   "display_name": "Python 3",
   "language": "python",
   "name": "python3"
  },
  "language_info": {
   "codemirror_mode": {
    "name": "ipython",
    "version": 3
   },
   "file_extension": ".py",
   "mimetype": "text/x-python",
   "name": "python",
   "nbconvert_exporter": "python",
   "pygments_lexer": "ipython3",
   "version": "3.8.3"
  }
 },
 "nbformat": 4,
 "nbformat_minor": 4
}
